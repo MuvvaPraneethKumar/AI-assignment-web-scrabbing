{
  "nbformat": 4,
  "nbformat_minor": 0,
  "metadata": {
    "colab": {
      "name": "WEB-SCRABBING.ipynb",
      "provenance": []
    },
    "kernelspec": {
      "name": "python3",
      "display_name": "Python 3"
    },
    "language_info": {
      "name": "python"
    }
  },
  "cells": [
    {
      "cell_type": "code",
      "execution_count": 23,
      "metadata": {
        "id": "p3FseiV7jb0t"
      },
      "outputs": [],
      "source": [
        "from bs4 import BeautifulSoup\n",
        "import requests\n",
        "import csv\n",
        "import pandas as pd\n"
      ]
    },
    {
      "cell_type": "code",
      "source": [
        "url = \"https://www.flipkart.com/search?q=latops&otracker=search&otracker1=search&marketplace=FLIPKART&as-show=on&as=off\""
      ],
      "metadata": {
        "id": "VNcSPHAWoAfv"
      },
      "execution_count": 24,
      "outputs": []
    },
    {
      "cell_type": "code",
      "source": [
        "response = requests.get(url)"
      ],
      "metadata": {
        "id": "uPObyVkroY-r"
      },
      "execution_count": 25,
      "outputs": []
    },
    {
      "cell_type": "code",
      "source": [
        "response"
      ],
      "metadata": {
        "colab": {
          "base_uri": "https://localhost:8080/"
        },
        "id": "CfcU92qoooO8",
        "outputId": "71ac0688-e1cd-43d7-e049-91ec3a6d3d9c"
      },
      "execution_count": 26,
      "outputs": [
        {
          "output_type": "execute_result",
          "data": {
            "text/plain": [
              "<Response [200]>"
            ]
          },
          "metadata": {},
          "execution_count": 26
        }
      ]
    },
    {
      "cell_type": "code",
      "source": [
        "link = 'www.flipkart.com/robots.txt'"
      ],
      "metadata": {
        "id": "lsrTKV2Toqcm"
      },
      "execution_count": 27,
      "outputs": []
    },
    {
      "cell_type": "code",
      "source": [
        "link"
      ],
      "metadata": {
        "colab": {
          "base_uri": "https://localhost:8080/",
          "height": 36
        },
        "id": "JW3iNtGjo7g2",
        "outputId": "cd2d3ae8-1b9a-40b6-e3b6-307e49517e78"
      },
      "execution_count": 28,
      "outputs": [
        {
          "output_type": "execute_result",
          "data": {
            "text/plain": [
              "'www.flipkart.com/robots.txt'"
            ],
            "application/vnd.google.colaboratory.intrinsic+json": {
              "type": "string"
            }
          },
          "metadata": {},
          "execution_count": 28
        }
      ]
    },
    {
      "cell_type": "code",
      "source": [
        "soup = BeautifulSoup(response.content,'html.parser')"
      ],
      "metadata": {
        "id": "PGJgY8KgtWLR"
      },
      "execution_count": 29,
      "outputs": []
    },
    {
      "cell_type": "code",
      "source": [
        "print(soup.prettify())"
      ],
      "metadata": {
        "id": "9ViFtksFj-Ch"
      },
      "execution_count": null,
      "outputs": []
    },
    {
      "cell_type": "code",
      "source": [
        "product = []\n",
        "price = []\n",
        "rating =[]\n",
        "product_name = soup.findAll('div',attrs = {'class':'_4rR01T'})\n",
        "print(product_name)\n"
      ],
      "metadata": {
        "colab": {
          "base_uri": "https://localhost:8080/"
        },
        "id": "u40uzD-Bo-Sr",
        "outputId": "6cd67c02-1bbb-4d69-a425-1ce114158b29"
      },
      "execution_count": 46,
      "outputs": [
        {
          "output_type": "stream",
          "name": "stdout",
          "text": [
            "[<div class=\"_4rR01T\">Lenovo IdeaPad 3 Chromebook Celeron Dual Core - (4 GB/64 GB EMMC Storage/Chrome OS) CB 11IGL05 Chromeb...</div>, <div class=\"_4rR01T\">Lenovo IdeaPad Gaming 3 Core i5 10th Gen - (8 GB/512 GB SSD/Windows 10 Home/4 GB Graphics/NVIDIA GeFor...</div>, <div class=\"_4rR01T\">Lenovo IdeaPad 3 Core i3 10th Gen - (8 GB/256 GB SSD/Windows 11 Home) 15IML05 Thin and Light Laptop</div>, <div class=\"_4rR01T\">HP Core i3 11th Gen - (8 GB/512 GB SSD/Windows 11 Home) 15s-fq2629TU Thin and Light Laptop</div>, <div class=\"_4rR01T\">HP Ryzen 3 Dual Core 3250U - (8 GB/256 GB SSD/Windows 10 Home) 15s-GY0501AU Thin and Light Laptop</div>, <div class=\"_4rR01T\">ASUS VivoBook 15 Core i3 10th Gen - (8 GB/1 TB HDD/Windows 11 Home) X515JA-BQ302W Thin and Light Lapto...</div>, <div class=\"_4rR01T\">HP Core i3 11th Gen - (8 GB/256 GB SSD/Windows 11 Home) 14s- dy2506TU Thin and Light Laptop</div>, <div class=\"_4rR01T\">DELL XPS Core i5 10th Gen - (8 GB/512 GB SSD/Windows 10 Home) XPS 9300 Thin and Light Laptop</div>, <div class=\"_4rR01T\">ASUS Core i3 11th Gen - (8 GB/256 GB SSD/Windows 11 Home) X515EA-EJ312WS Thin and Light Laptop</div>, <div class=\"_4rR01T\">Infinix INBook X1 Core i3 10th Gen - (8 GB/256 GB SSD/Windows 11 Home) XL11 Thin and Light Laptop</div>, <div class=\"_4rR01T\">MSI GF65 Thin Hexa Core i5 10th Gen - (16 GB/512 GB SSD/Windows 10 Home/6 GB Graphics/NVIDIA GeForce R...</div>, <div class=\"_4rR01T\">acer Aspire Vero(Green PC ) Core i5 11th Gen - (8 GB/512 GB SSD/Windows 11 Home) AV15-51 Thin and Ligh...</div>, <div class=\"_4rR01T\">Lenovo Core i3 10th Gen - (8 GB/512 GB SSD/Windows 11 Home) 15IML05 Thin and Light Laptop</div>, <div class=\"_4rR01T\">HP Ryzen 5 Hexa Core 5500U - (8 GB/512 GB SSD/Windows 11 Home) 14s-fq1092au Thin and Light Laptop</div>, <div class=\"_4rR01T\">acer Aspire 3 Dual Core 3020e - (4 GB/256 GB SSD/Windows 11 Home) A314-22 Laptop</div>, <div class=\"_4rR01T\">DELL Inspiron Core i5 11th Gen - (16 GB/512 GB SSD/Windows 10) Inspiron 5418 Thin and Light Laptop</div>, <div class=\"_4rR01T\">Lenovo IdeaPad 3 Core i3 11th Gen - (8 GB/512 GB SSD/Windows 11 Home) 15ITL6 Thin and Light Laptop</div>, <div class=\"_4rR01T\">DELL Vostro Core i3 11th Gen - (4 GB/1 TB HDD/256 GB SSD/Windows 11 Home) Vostro 3400 Thin and Light L...</div>, <div class=\"_4rR01T\">ASUS VivoBook 15 (2022) Core i3 10th Gen - (8 GB/512 GB SSD/Windows 11 Home) X515JA-EJ362WS Thin and L...</div>, <div class=\"_4rR01T\">acer Intel EVO Swift 3 Core i5 11th Gen - (8 GB/512 GB SSD/Windows 11 Home) SF314-511 Thin and Light L...</div>, <div class=\"_4rR01T\">ASUS VivoBook 15 (2022) Core i5 11th Gen - (8 GB/1 TB HDD/256 GB SSD/Windows 10 Home) X515EA-EJ502TS T...</div>, <div class=\"_4rR01T\">ASUS VivoBook 15 (2021) Core i3 11th Gen - (8 GB/1 TB HDD/256 GB SSD/Windows 11 Home) X515EA-EJ332WS T...</div>, <div class=\"_4rR01T\">Infinix INBook X1 Core i3 10th Gen - (8 GB/256 GB SSD/Windows 11 Home) XL11 Thin and Light Laptop</div>, <div class=\"_4rR01T\">Lenovo Legion 5 Core i7 11th Gen - (16 GB/512 GB SSD/Windows 10 Home/4 GB Graphics/NVIDIA GeForce RTX ...</div>]\n"
          ]
        }
      ]
    },
    {
      "cell_type": "code",
      "source": [
        "product_name"
      ],
      "metadata": {
        "colab": {
          "base_uri": "https://localhost:8080/"
        },
        "id": "TFmY_IxIkyH4",
        "outputId": "260cfa65-a5d4-461e-f0dd-f80cfdcff6b4"
      },
      "execution_count": 47,
      "outputs": [
        {
          "output_type": "execute_result",
          "data": {
            "text/plain": [
              "[<div class=\"_4rR01T\">Lenovo IdeaPad 3 Chromebook Celeron Dual Core - (4 GB/64 GB EMMC Storage/Chrome OS) CB 11IGL05 Chromeb...</div>,\n",
              " <div class=\"_4rR01T\">Lenovo IdeaPad Gaming 3 Core i5 10th Gen - (8 GB/512 GB SSD/Windows 10 Home/4 GB Graphics/NVIDIA GeFor...</div>,\n",
              " <div class=\"_4rR01T\">Lenovo IdeaPad 3 Core i3 10th Gen - (8 GB/256 GB SSD/Windows 11 Home) 15IML05 Thin and Light Laptop</div>,\n",
              " <div class=\"_4rR01T\">HP Core i3 11th Gen - (8 GB/512 GB SSD/Windows 11 Home) 15s-fq2629TU Thin and Light Laptop</div>,\n",
              " <div class=\"_4rR01T\">HP Ryzen 3 Dual Core 3250U - (8 GB/256 GB SSD/Windows 10 Home) 15s-GY0501AU Thin and Light Laptop</div>,\n",
              " <div class=\"_4rR01T\">ASUS VivoBook 15 Core i3 10th Gen - (8 GB/1 TB HDD/Windows 11 Home) X515JA-BQ302W Thin and Light Lapto...</div>,\n",
              " <div class=\"_4rR01T\">HP Core i3 11th Gen - (8 GB/256 GB SSD/Windows 11 Home) 14s- dy2506TU Thin and Light Laptop</div>,\n",
              " <div class=\"_4rR01T\">DELL XPS Core i5 10th Gen - (8 GB/512 GB SSD/Windows 10 Home) XPS 9300 Thin and Light Laptop</div>,\n",
              " <div class=\"_4rR01T\">ASUS Core i3 11th Gen - (8 GB/256 GB SSD/Windows 11 Home) X515EA-EJ312WS Thin and Light Laptop</div>,\n",
              " <div class=\"_4rR01T\">Infinix INBook X1 Core i3 10th Gen - (8 GB/256 GB SSD/Windows 11 Home) XL11 Thin and Light Laptop</div>,\n",
              " <div class=\"_4rR01T\">MSI GF65 Thin Hexa Core i5 10th Gen - (16 GB/512 GB SSD/Windows 10 Home/6 GB Graphics/NVIDIA GeForce R...</div>,\n",
              " <div class=\"_4rR01T\">acer Aspire Vero(Green PC ) Core i5 11th Gen - (8 GB/512 GB SSD/Windows 11 Home) AV15-51 Thin and Ligh...</div>,\n",
              " <div class=\"_4rR01T\">Lenovo Core i3 10th Gen - (8 GB/512 GB SSD/Windows 11 Home) 15IML05 Thin and Light Laptop</div>,\n",
              " <div class=\"_4rR01T\">HP Ryzen 5 Hexa Core 5500U - (8 GB/512 GB SSD/Windows 11 Home) 14s-fq1092au Thin and Light Laptop</div>,\n",
              " <div class=\"_4rR01T\">acer Aspire 3 Dual Core 3020e - (4 GB/256 GB SSD/Windows 11 Home) A314-22 Laptop</div>,\n",
              " <div class=\"_4rR01T\">DELL Inspiron Core i5 11th Gen - (16 GB/512 GB SSD/Windows 10) Inspiron 5418 Thin and Light Laptop</div>,\n",
              " <div class=\"_4rR01T\">Lenovo IdeaPad 3 Core i3 11th Gen - (8 GB/512 GB SSD/Windows 11 Home) 15ITL6 Thin and Light Laptop</div>,\n",
              " <div class=\"_4rR01T\">DELL Vostro Core i3 11th Gen - (4 GB/1 TB HDD/256 GB SSD/Windows 11 Home) Vostro 3400 Thin and Light L...</div>,\n",
              " <div class=\"_4rR01T\">ASUS VivoBook 15 (2022) Core i3 10th Gen - (8 GB/512 GB SSD/Windows 11 Home) X515JA-EJ362WS Thin and L...</div>,\n",
              " <div class=\"_4rR01T\">acer Intel EVO Swift 3 Core i5 11th Gen - (8 GB/512 GB SSD/Windows 11 Home) SF314-511 Thin and Light L...</div>,\n",
              " <div class=\"_4rR01T\">ASUS VivoBook 15 (2022) Core i5 11th Gen - (8 GB/1 TB HDD/256 GB SSD/Windows 10 Home) X515EA-EJ502TS T...</div>,\n",
              " <div class=\"_4rR01T\">ASUS VivoBook 15 (2021) Core i3 11th Gen - (8 GB/1 TB HDD/256 GB SSD/Windows 11 Home) X515EA-EJ332WS T...</div>,\n",
              " <div class=\"_4rR01T\">Infinix INBook X1 Core i3 10th Gen - (8 GB/256 GB SSD/Windows 11 Home) XL11 Thin and Light Laptop</div>,\n",
              " <div class=\"_4rR01T\">Lenovo Legion 5 Core i7 11th Gen - (16 GB/512 GB SSD/Windows 10 Home/4 GB Graphics/NVIDIA GeForce RTX ...</div>]"
            ]
          },
          "metadata": {},
          "execution_count": 47
        }
      ]
    },
    {
      "cell_type": "code",
      "source": [
        "for a in soup.findAll('a',href = True,attrs = {'class':'_1fQZEK'}):\n",
        "  laptop_name = a.find('div',attrs = {'class':'_4rR01T'}).text.replace(\"(\",\"\").replace(\")\",\"\")\n",
        "  prices = a.find('div',attrs = {'class':'_30jeq3._1_WHN1'})\n",
        "  ratings = a.find('div',attrs = {'class':'_3LWZIK'})\n",
        "  product.append(laptop_name)\n",
        "  price.append(prices)\n",
        "  rating.append(ratings)\n"
      ],
      "metadata": {
        "id": "DKMPFgvGsV2k"
      },
      "execution_count": 48,
      "outputs": []
    },
    {
      "cell_type": "code",
      "source": [
        "product"
      ],
      "metadata": {
        "colab": {
          "base_uri": "https://localhost:8080/"
        },
        "id": "db1Km46vvMhV",
        "outputId": "bedcfb98-5337-457a-e8d0-787b43df2b8d"
      },
      "execution_count": 49,
      "outputs": [
        {
          "output_type": "execute_result",
          "data": {
            "text/plain": [
              "['Lenovo IdeaPad 3 Chromebook Celeron Dual Core - 4 GB/64 GB EMMC Storage/Chrome OS CB 11IGL05 Chromeb...',\n",
              " 'Lenovo IdeaPad Gaming 3 Core i5 10th Gen - 8 GB/512 GB SSD/Windows 10 Home/4 GB Graphics/NVIDIA GeFor...',\n",
              " 'Lenovo IdeaPad 3 Core i3 10th Gen - 8 GB/256 GB SSD/Windows 11 Home 15IML05 Thin and Light Laptop',\n",
              " 'HP Core i3 11th Gen - 8 GB/512 GB SSD/Windows 11 Home 15s-fq2629TU Thin and Light Laptop',\n",
              " 'HP Ryzen 3 Dual Core 3250U - 8 GB/256 GB SSD/Windows 10 Home 15s-GY0501AU Thin and Light Laptop',\n",
              " 'ASUS VivoBook 15 Core i3 10th Gen - 8 GB/1 TB HDD/Windows 11 Home X515JA-BQ302W Thin and Light Lapto...',\n",
              " 'HP Core i3 11th Gen - 8 GB/256 GB SSD/Windows 11 Home 14s- dy2506TU Thin and Light Laptop',\n",
              " 'DELL XPS Core i5 10th Gen - 8 GB/512 GB SSD/Windows 10 Home XPS 9300 Thin and Light Laptop',\n",
              " 'ASUS Core i3 11th Gen - 8 GB/256 GB SSD/Windows 11 Home X515EA-EJ312WS Thin and Light Laptop',\n",
              " 'Infinix INBook X1 Core i3 10th Gen - 8 GB/256 GB SSD/Windows 11 Home XL11 Thin and Light Laptop',\n",
              " 'MSI GF65 Thin Hexa Core i5 10th Gen - 16 GB/512 GB SSD/Windows 10 Home/6 GB Graphics/NVIDIA GeForce R...',\n",
              " 'acer Aspire VeroGreen PC  Core i5 11th Gen - 8 GB/512 GB SSD/Windows 11 Home AV15-51 Thin and Ligh...',\n",
              " 'Lenovo Core i3 10th Gen - 8 GB/512 GB SSD/Windows 11 Home 15IML05 Thin and Light Laptop',\n",
              " 'HP Ryzen 5 Hexa Core 5500U - 8 GB/512 GB SSD/Windows 11 Home 14s-fq1092au Thin and Light Laptop',\n",
              " 'acer Aspire 3 Dual Core 3020e - 4 GB/256 GB SSD/Windows 11 Home A314-22 Laptop',\n",
              " 'DELL Inspiron Core i5 11th Gen - 16 GB/512 GB SSD/Windows 10 Inspiron 5418 Thin and Light Laptop',\n",
              " 'Lenovo IdeaPad 3 Core i3 11th Gen - 8 GB/512 GB SSD/Windows 11 Home 15ITL6 Thin and Light Laptop',\n",
              " 'DELL Vostro Core i3 11th Gen - 4 GB/1 TB HDD/256 GB SSD/Windows 11 Home Vostro 3400 Thin and Light L...',\n",
              " 'ASUS VivoBook 15 2022 Core i3 10th Gen - 8 GB/512 GB SSD/Windows 11 Home X515JA-EJ362WS Thin and L...',\n",
              " 'acer Intel EVO Swift 3 Core i5 11th Gen - 8 GB/512 GB SSD/Windows 11 Home SF314-511 Thin and Light L...',\n",
              " 'ASUS VivoBook 15 2022 Core i5 11th Gen - 8 GB/1 TB HDD/256 GB SSD/Windows 10 Home X515EA-EJ502TS T...',\n",
              " 'ASUS VivoBook 15 2021 Core i3 11th Gen - 8 GB/1 TB HDD/256 GB SSD/Windows 11 Home X515EA-EJ332WS T...',\n",
              " 'Infinix INBook X1 Core i3 10th Gen - 8 GB/256 GB SSD/Windows 11 Home XL11 Thin and Light Laptop',\n",
              " 'Lenovo Legion 5 Core i7 11th Gen - 16 GB/512 GB SSD/Windows 10 Home/4 GB Graphics/NVIDIA GeForce RTX ...']"
            ]
          },
          "metadata": {},
          "execution_count": 49
        }
      ]
    },
    {
      "cell_type": "code",
      "source": [
        "info = (product,price,rating)\n",
        "print(info)"
      ],
      "metadata": {
        "colab": {
          "base_uri": "https://localhost:8080/"
        },
        "id": "QtGqptN5tvWP",
        "outputId": "bf20481b-1fc3-4a4e-e9d7-165d70308b5b"
      },
      "execution_count": 50,
      "outputs": [
        {
          "output_type": "stream",
          "name": "stdout",
          "text": [
            "(['Lenovo IdeaPad 3 Chromebook Celeron Dual Core - 4 GB/64 GB EMMC Storage/Chrome OS CB 11IGL05 Chromeb...', 'Lenovo IdeaPad Gaming 3 Core i5 10th Gen - 8 GB/512 GB SSD/Windows 10 Home/4 GB Graphics/NVIDIA GeFor...', 'Lenovo IdeaPad 3 Core i3 10th Gen - 8 GB/256 GB SSD/Windows 11 Home 15IML05 Thin and Light Laptop', 'HP Core i3 11th Gen - 8 GB/512 GB SSD/Windows 11 Home 15s-fq2629TU Thin and Light Laptop', 'HP Ryzen 3 Dual Core 3250U - 8 GB/256 GB SSD/Windows 10 Home 15s-GY0501AU Thin and Light Laptop', 'ASUS VivoBook 15 Core i3 10th Gen - 8 GB/1 TB HDD/Windows 11 Home X515JA-BQ302W Thin and Light Lapto...', 'HP Core i3 11th Gen - 8 GB/256 GB SSD/Windows 11 Home 14s- dy2506TU Thin and Light Laptop', 'DELL XPS Core i5 10th Gen - 8 GB/512 GB SSD/Windows 10 Home XPS 9300 Thin and Light Laptop', 'ASUS Core i3 11th Gen - 8 GB/256 GB SSD/Windows 11 Home X515EA-EJ312WS Thin and Light Laptop', 'Infinix INBook X1 Core i3 10th Gen - 8 GB/256 GB SSD/Windows 11 Home XL11 Thin and Light Laptop', 'MSI GF65 Thin Hexa Core i5 10th Gen - 16 GB/512 GB SSD/Windows 10 Home/6 GB Graphics/NVIDIA GeForce R...', 'acer Aspire VeroGreen PC  Core i5 11th Gen - 8 GB/512 GB SSD/Windows 11 Home AV15-51 Thin and Ligh...', 'Lenovo Core i3 10th Gen - 8 GB/512 GB SSD/Windows 11 Home 15IML05 Thin and Light Laptop', 'HP Ryzen 5 Hexa Core 5500U - 8 GB/512 GB SSD/Windows 11 Home 14s-fq1092au Thin and Light Laptop', 'acer Aspire 3 Dual Core 3020e - 4 GB/256 GB SSD/Windows 11 Home A314-22 Laptop', 'DELL Inspiron Core i5 11th Gen - 16 GB/512 GB SSD/Windows 10 Inspiron 5418 Thin and Light Laptop', 'Lenovo IdeaPad 3 Core i3 11th Gen - 8 GB/512 GB SSD/Windows 11 Home 15ITL6 Thin and Light Laptop', 'DELL Vostro Core i3 11th Gen - 4 GB/1 TB HDD/256 GB SSD/Windows 11 Home Vostro 3400 Thin and Light L...', 'ASUS VivoBook 15 2022 Core i3 10th Gen - 8 GB/512 GB SSD/Windows 11 Home X515JA-EJ362WS Thin and L...', 'acer Intel EVO Swift 3 Core i5 11th Gen - 8 GB/512 GB SSD/Windows 11 Home SF314-511 Thin and Light L...', 'ASUS VivoBook 15 2022 Core i5 11th Gen - 8 GB/1 TB HDD/256 GB SSD/Windows 10 Home X515EA-EJ502TS T...', 'ASUS VivoBook 15 2021 Core i3 11th Gen - 8 GB/1 TB HDD/256 GB SSD/Windows 11 Home X515EA-EJ332WS T...', 'Infinix INBook X1 Core i3 10th Gen - 8 GB/256 GB SSD/Windows 11 Home XL11 Thin and Light Laptop', 'Lenovo Legion 5 Core i7 11th Gen - 16 GB/512 GB SSD/Windows 10 Home/4 GB Graphics/NVIDIA GeForce RTX ...'], [None, None, None, None, None, None, None, None, None, None, None, None, None, None, None, None, None, None, None, None, None, None, None, None], [None, None, None, None, None, None, None, None, None, None, None, None, None, None, None, None, None, None, None, None, None, None, None, None])\n"
          ]
        }
      ]
    },
    {
      "cell_type": "code",
      "source": [
        "laptop_dataset = pd.DataFrame({'product':product,'prices':price,'ratings':rating})"
      ],
      "metadata": {
        "id": "I6w9l6zVyTcB"
      },
      "execution_count": 51,
      "outputs": []
    },
    {
      "cell_type": "code",
      "source": [
        "laptop_dataset"
      ],
      "metadata": {
        "colab": {
          "base_uri": "https://localhost:8080/",
          "height": 802
        },
        "id": "SLKAJUc6zljk",
        "outputId": "92027ea5-a755-4bc7-a88f-2731d931f5da"
      },
      "execution_count": 52,
      "outputs": [
        {
          "output_type": "execute_result",
          "data": {
            "text/plain": [
              "                                              product prices ratings\n",
              "0   Lenovo IdeaPad 3 Chromebook Celeron Dual Core ...   None    None\n",
              "1   Lenovo IdeaPad Gaming 3 Core i5 10th Gen - 8 G...   None    None\n",
              "2   Lenovo IdeaPad 3 Core i3 10th Gen - 8 GB/256 G...   None    None\n",
              "3   HP Core i3 11th Gen - 8 GB/512 GB SSD/Windows ...   None    None\n",
              "4   HP Ryzen 3 Dual Core 3250U - 8 GB/256 GB SSD/W...   None    None\n",
              "5   ASUS VivoBook 15 Core i3 10th Gen - 8 GB/1 TB ...   None    None\n",
              "6   HP Core i3 11th Gen - 8 GB/256 GB SSD/Windows ...   None    None\n",
              "7   DELL XPS Core i5 10th Gen - 8 GB/512 GB SSD/Wi...   None    None\n",
              "8   ASUS Core i3 11th Gen - 8 GB/256 GB SSD/Window...   None    None\n",
              "9   Infinix INBook X1 Core i3 10th Gen - 8 GB/256 ...   None    None\n",
              "10  MSI GF65 Thin Hexa Core i5 10th Gen - 16 GB/51...   None    None\n",
              "11  acer Aspire VeroGreen PC  Core i5 11th Gen - 8...   None    None\n",
              "12  Lenovo Core i3 10th Gen - 8 GB/512 GB SSD/Wind...   None    None\n",
              "13  HP Ryzen 5 Hexa Core 5500U - 8 GB/512 GB SSD/W...   None    None\n",
              "14  acer Aspire 3 Dual Core 3020e - 4 GB/256 GB SS...   None    None\n",
              "15  DELL Inspiron Core i5 11th Gen - 16 GB/512 GB ...   None    None\n",
              "16  Lenovo IdeaPad 3 Core i3 11th Gen - 8 GB/512 G...   None    None\n",
              "17  DELL Vostro Core i3 11th Gen - 4 GB/1 TB HDD/2...   None    None\n",
              "18  ASUS VivoBook 15 2022 Core i3 10th Gen - 8 GB/...   None    None\n",
              "19  acer Intel EVO Swift 3 Core i5 11th Gen - 8 GB...   None    None\n",
              "20  ASUS VivoBook 15 2022 Core i5 11th Gen - 8 GB/...   None    None\n",
              "21  ASUS VivoBook 15 2021 Core i3 11th Gen - 8 GB/...   None    None\n",
              "22  Infinix INBook X1 Core i3 10th Gen - 8 GB/256 ...   None    None\n",
              "23  Lenovo Legion 5 Core i7 11th Gen - 16 GB/512 G...   None    None"
            ],
            "text/html": [
              "\n",
              "  <div id=\"df-3d9b60e6-b1e0-42a6-9bf8-5b2fd5aff988\">\n",
              "    <div class=\"colab-df-container\">\n",
              "      <div>\n",
              "<style scoped>\n",
              "    .dataframe tbody tr th:only-of-type {\n",
              "        vertical-align: middle;\n",
              "    }\n",
              "\n",
              "    .dataframe tbody tr th {\n",
              "        vertical-align: top;\n",
              "    }\n",
              "\n",
              "    .dataframe thead th {\n",
              "        text-align: right;\n",
              "    }\n",
              "</style>\n",
              "<table border=\"1\" class=\"dataframe\">\n",
              "  <thead>\n",
              "    <tr style=\"text-align: right;\">\n",
              "      <th></th>\n",
              "      <th>product</th>\n",
              "      <th>prices</th>\n",
              "      <th>ratings</th>\n",
              "    </tr>\n",
              "  </thead>\n",
              "  <tbody>\n",
              "    <tr>\n",
              "      <th>0</th>\n",
              "      <td>Lenovo IdeaPad 3 Chromebook Celeron Dual Core ...</td>\n",
              "      <td>None</td>\n",
              "      <td>None</td>\n",
              "    </tr>\n",
              "    <tr>\n",
              "      <th>1</th>\n",
              "      <td>Lenovo IdeaPad Gaming 3 Core i5 10th Gen - 8 G...</td>\n",
              "      <td>None</td>\n",
              "      <td>None</td>\n",
              "    </tr>\n",
              "    <tr>\n",
              "      <th>2</th>\n",
              "      <td>Lenovo IdeaPad 3 Core i3 10th Gen - 8 GB/256 G...</td>\n",
              "      <td>None</td>\n",
              "      <td>None</td>\n",
              "    </tr>\n",
              "    <tr>\n",
              "      <th>3</th>\n",
              "      <td>HP Core i3 11th Gen - 8 GB/512 GB SSD/Windows ...</td>\n",
              "      <td>None</td>\n",
              "      <td>None</td>\n",
              "    </tr>\n",
              "    <tr>\n",
              "      <th>4</th>\n",
              "      <td>HP Ryzen 3 Dual Core 3250U - 8 GB/256 GB SSD/W...</td>\n",
              "      <td>None</td>\n",
              "      <td>None</td>\n",
              "    </tr>\n",
              "    <tr>\n",
              "      <th>5</th>\n",
              "      <td>ASUS VivoBook 15 Core i3 10th Gen - 8 GB/1 TB ...</td>\n",
              "      <td>None</td>\n",
              "      <td>None</td>\n",
              "    </tr>\n",
              "    <tr>\n",
              "      <th>6</th>\n",
              "      <td>HP Core i3 11th Gen - 8 GB/256 GB SSD/Windows ...</td>\n",
              "      <td>None</td>\n",
              "      <td>None</td>\n",
              "    </tr>\n",
              "    <tr>\n",
              "      <th>7</th>\n",
              "      <td>DELL XPS Core i5 10th Gen - 8 GB/512 GB SSD/Wi...</td>\n",
              "      <td>None</td>\n",
              "      <td>None</td>\n",
              "    </tr>\n",
              "    <tr>\n",
              "      <th>8</th>\n",
              "      <td>ASUS Core i3 11th Gen - 8 GB/256 GB SSD/Window...</td>\n",
              "      <td>None</td>\n",
              "      <td>None</td>\n",
              "    </tr>\n",
              "    <tr>\n",
              "      <th>9</th>\n",
              "      <td>Infinix INBook X1 Core i3 10th Gen - 8 GB/256 ...</td>\n",
              "      <td>None</td>\n",
              "      <td>None</td>\n",
              "    </tr>\n",
              "    <tr>\n",
              "      <th>10</th>\n",
              "      <td>MSI GF65 Thin Hexa Core i5 10th Gen - 16 GB/51...</td>\n",
              "      <td>None</td>\n",
              "      <td>None</td>\n",
              "    </tr>\n",
              "    <tr>\n",
              "      <th>11</th>\n",
              "      <td>acer Aspire VeroGreen PC  Core i5 11th Gen - 8...</td>\n",
              "      <td>None</td>\n",
              "      <td>None</td>\n",
              "    </tr>\n",
              "    <tr>\n",
              "      <th>12</th>\n",
              "      <td>Lenovo Core i3 10th Gen - 8 GB/512 GB SSD/Wind...</td>\n",
              "      <td>None</td>\n",
              "      <td>None</td>\n",
              "    </tr>\n",
              "    <tr>\n",
              "      <th>13</th>\n",
              "      <td>HP Ryzen 5 Hexa Core 5500U - 8 GB/512 GB SSD/W...</td>\n",
              "      <td>None</td>\n",
              "      <td>None</td>\n",
              "    </tr>\n",
              "    <tr>\n",
              "      <th>14</th>\n",
              "      <td>acer Aspire 3 Dual Core 3020e - 4 GB/256 GB SS...</td>\n",
              "      <td>None</td>\n",
              "      <td>None</td>\n",
              "    </tr>\n",
              "    <tr>\n",
              "      <th>15</th>\n",
              "      <td>DELL Inspiron Core i5 11th Gen - 16 GB/512 GB ...</td>\n",
              "      <td>None</td>\n",
              "      <td>None</td>\n",
              "    </tr>\n",
              "    <tr>\n",
              "      <th>16</th>\n",
              "      <td>Lenovo IdeaPad 3 Core i3 11th Gen - 8 GB/512 G...</td>\n",
              "      <td>None</td>\n",
              "      <td>None</td>\n",
              "    </tr>\n",
              "    <tr>\n",
              "      <th>17</th>\n",
              "      <td>DELL Vostro Core i3 11th Gen - 4 GB/1 TB HDD/2...</td>\n",
              "      <td>None</td>\n",
              "      <td>None</td>\n",
              "    </tr>\n",
              "    <tr>\n",
              "      <th>18</th>\n",
              "      <td>ASUS VivoBook 15 2022 Core i3 10th Gen - 8 GB/...</td>\n",
              "      <td>None</td>\n",
              "      <td>None</td>\n",
              "    </tr>\n",
              "    <tr>\n",
              "      <th>19</th>\n",
              "      <td>acer Intel EVO Swift 3 Core i5 11th Gen - 8 GB...</td>\n",
              "      <td>None</td>\n",
              "      <td>None</td>\n",
              "    </tr>\n",
              "    <tr>\n",
              "      <th>20</th>\n",
              "      <td>ASUS VivoBook 15 2022 Core i5 11th Gen - 8 GB/...</td>\n",
              "      <td>None</td>\n",
              "      <td>None</td>\n",
              "    </tr>\n",
              "    <tr>\n",
              "      <th>21</th>\n",
              "      <td>ASUS VivoBook 15 2021 Core i3 11th Gen - 8 GB/...</td>\n",
              "      <td>None</td>\n",
              "      <td>None</td>\n",
              "    </tr>\n",
              "    <tr>\n",
              "      <th>22</th>\n",
              "      <td>Infinix INBook X1 Core i3 10th Gen - 8 GB/256 ...</td>\n",
              "      <td>None</td>\n",
              "      <td>None</td>\n",
              "    </tr>\n",
              "    <tr>\n",
              "      <th>23</th>\n",
              "      <td>Lenovo Legion 5 Core i7 11th Gen - 16 GB/512 G...</td>\n",
              "      <td>None</td>\n",
              "      <td>None</td>\n",
              "    </tr>\n",
              "  </tbody>\n",
              "</table>\n",
              "</div>\n",
              "      <button class=\"colab-df-convert\" onclick=\"convertToInteractive('df-3d9b60e6-b1e0-42a6-9bf8-5b2fd5aff988')\"\n",
              "              title=\"Convert this dataframe to an interactive table.\"\n",
              "              style=\"display:none;\">\n",
              "        \n",
              "  <svg xmlns=\"http://www.w3.org/2000/svg\" height=\"24px\"viewBox=\"0 0 24 24\"\n",
              "       width=\"24px\">\n",
              "    <path d=\"M0 0h24v24H0V0z\" fill=\"none\"/>\n",
              "    <path d=\"M18.56 5.44l.94 2.06.94-2.06 2.06-.94-2.06-.94-.94-2.06-.94 2.06-2.06.94zm-11 1L8.5 8.5l.94-2.06 2.06-.94-2.06-.94L8.5 2.5l-.94 2.06-2.06.94zm10 10l.94 2.06.94-2.06 2.06-.94-2.06-.94-.94-2.06-.94 2.06-2.06.94z\"/><path d=\"M17.41 7.96l-1.37-1.37c-.4-.4-.92-.59-1.43-.59-.52 0-1.04.2-1.43.59L10.3 9.45l-7.72 7.72c-.78.78-.78 2.05 0 2.83L4 21.41c.39.39.9.59 1.41.59.51 0 1.02-.2 1.41-.59l7.78-7.78 2.81-2.81c.8-.78.8-2.07 0-2.86zM5.41 20L4 18.59l7.72-7.72 1.47 1.35L5.41 20z\"/>\n",
              "  </svg>\n",
              "      </button>\n",
              "      \n",
              "  <style>\n",
              "    .colab-df-container {\n",
              "      display:flex;\n",
              "      flex-wrap:wrap;\n",
              "      gap: 12px;\n",
              "    }\n",
              "\n",
              "    .colab-df-convert {\n",
              "      background-color: #E8F0FE;\n",
              "      border: none;\n",
              "      border-radius: 50%;\n",
              "      cursor: pointer;\n",
              "      display: none;\n",
              "      fill: #1967D2;\n",
              "      height: 32px;\n",
              "      padding: 0 0 0 0;\n",
              "      width: 32px;\n",
              "    }\n",
              "\n",
              "    .colab-df-convert:hover {\n",
              "      background-color: #E2EBFA;\n",
              "      box-shadow: 0px 1px 2px rgba(60, 64, 67, 0.3), 0px 1px 3px 1px rgba(60, 64, 67, 0.15);\n",
              "      fill: #174EA6;\n",
              "    }\n",
              "\n",
              "    [theme=dark] .colab-df-convert {\n",
              "      background-color: #3B4455;\n",
              "      fill: #D2E3FC;\n",
              "    }\n",
              "\n",
              "    [theme=dark] .colab-df-convert:hover {\n",
              "      background-color: #434B5C;\n",
              "      box-shadow: 0px 1px 3px 1px rgba(0, 0, 0, 0.15);\n",
              "      filter: drop-shadow(0px 1px 2px rgba(0, 0, 0, 0.3));\n",
              "      fill: #FFFFFF;\n",
              "    }\n",
              "  </style>\n",
              "\n",
              "      <script>\n",
              "        const buttonEl =\n",
              "          document.querySelector('#df-3d9b60e6-b1e0-42a6-9bf8-5b2fd5aff988 button.colab-df-convert');\n",
              "        buttonEl.style.display =\n",
              "          google.colab.kernel.accessAllowed ? 'block' : 'none';\n",
              "\n",
              "        async function convertToInteractive(key) {\n",
              "          const element = document.querySelector('#df-3d9b60e6-b1e0-42a6-9bf8-5b2fd5aff988');\n",
              "          const dataTable =\n",
              "            await google.colab.kernel.invokeFunction('convertToInteractive',\n",
              "                                                     [key], {});\n",
              "          if (!dataTable) return;\n",
              "\n",
              "          const docLinkHtml = 'Like what you see? Visit the ' +\n",
              "            '<a target=\"_blank\" href=https://colab.research.google.com/notebooks/data_table.ipynb>data table notebook</a>'\n",
              "            + ' to learn more about interactive tables.';\n",
              "          element.innerHTML = '';\n",
              "          dataTable['output_type'] = 'display_data';\n",
              "          await google.colab.output.renderOutput(dataTable, element);\n",
              "          const docLink = document.createElement('div');\n",
              "          docLink.innerHTML = docLinkHtml;\n",
              "          element.appendChild(docLink);\n",
              "        }\n",
              "      </script>\n",
              "    </div>\n",
              "  </div>\n",
              "  "
            ]
          },
          "metadata": {},
          "execution_count": 52
        }
      ]
    }
  ]
}